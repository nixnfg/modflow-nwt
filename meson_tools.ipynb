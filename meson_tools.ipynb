{
 "cells": [
  {
   "cell_type": "code",
   "execution_count": 8,
   "metadata": {},
   "outputs": [],
   "source": [
    "import os\n",
    "meson_path = \"./meson.build\"\n",
    "src_path = \"./MODFLOW-NWT/src/\"\n",
    "src_list=['MODFLOW-NWT','src']\n",
    "def file_name(file_dir):\n",
    "    L=[]\n",
    "    for root, dirs, files in os.walk(file_dir):  \n",
    "        for file in files:\n",
    "            #if os.path.splitext(file)[1] == '.f90':  # 想要保存的文件格式\n",
    "            L.append(file)\n",
    "    return L\n",
    "def meson_src_path(name_list,dir_list):\n",
    "    names=[]\n",
    "    string=\"    \"\n",
    "    for li in dir_list:\n",
    "        string=string+\"'\"+li+\"' / \"\n",
    "    for li in name_list:\n",
    "        names.append(string+\"'\"+li+\"',\\n\")\n",
    "    return names\n",
    "files = file_name(src_path)\n",
    "mesons = meson_src_path(files,src_list)"
   ]
  },
  {
   "cell_type": "code",
   "execution_count": 27,
   "metadata": {},
   "outputs": [],
   "source": [
    "input = open(meson_path,'r')\n",
    "lines = input.readlines()\n",
    "input.close()\n",
    "output = open(meson_path,'w')\n",
    "label=0\n",
    "for line in lines:\n",
    "    if(str(line) == 'sources = files(\\n'):\n",
    "        output.write(line)\n",
    "        for newline in mesons:\n",
    "            output.write(newline)\n",
    "        label=1\n",
    "        continue\n",
    "    if((str(line) == ')\\n')and(label==1)):\n",
    "        output.write(line)\n",
    "        label=0\n",
    "        continue\n",
    "    if(label==0):\n",
    "        output.write(line)\n",
    "output.close()\n"
   ]
  }
 ],
 "metadata": {
  "kernelspec": {
   "display_name": "Python 3.10.4 64-bit (system)",
   "language": "python",
   "name": "python3"
  },
  "language_info": {
   "codemirror_mode": {
    "name": "ipython",
    "version": 3
   },
   "file_extension": ".py",
   "mimetype": "text/x-python",
   "name": "python",
   "nbconvert_exporter": "python",
   "pygments_lexer": "ipython3",
   "version": "3.10.4"
  },
  "orig_nbformat": 4,
  "vscode": {
   "interpreter": {
    "hash": "2f33d0a55d94ca1cdfdc553dc3903f823695044ce0a92e7fd8e0d6b7d2243a7d"
   }
  }
 },
 "nbformat": 4,
 "nbformat_minor": 2
}
